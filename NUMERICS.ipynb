{
  "nbformat": 4,
  "nbformat_minor": 0,
  "metadata": {
    "colab": {
      "name": "NUMERICS",
      "provenance": [],
      "collapsed_sections": [],
      "include_colab_link": true
    },
    "kernelspec": {
      "display_name": "Python 3",
      "name": "python3"
    }
  },
  "cells": [
    {
      "cell_type": "markdown",
      "metadata": {
        "id": "view-in-github",
        "colab_type": "text"
      },
      "source": [
        "<a href=\"https://colab.research.google.com/github/LetRastaManLead/4100E241/blob/main/NUMERICS.ipynb\" target=\"_parent\"><img src=\"https://colab.research.google.com/assets/colab-badge.svg\" alt=\"Open In Colab\"/></a>"
      ]
    },
    {
      "cell_type": "markdown",
      "metadata": {
        "id": "mqggUpTvLQ7g"
      },
      "source": [
        "# **NUMERICS DATA TYPE**\n",
        "\n",
        "Date: 20211011\n",
        "\n",
        "Name: Clarence M. Del Prado / 4100E241"
      ]
    },
    {
      "cell_type": "markdown",
      "metadata": {
        "id": "CzxAQMDjL71Q"
      },
      "source": [
        "**ARITHMETIC OPERATORS**"
      ]
    },
    {
      "cell_type": "code",
      "metadata": {
        "id": "Xat8UTkFMC9H",
        "colab": {
          "base_uri": "https://localhost:8080/"
        },
        "outputId": "ff9c2f92-5a9f-4e96-bdbd-b2abc025238d"
      },
      "source": [
        "a = 17 / 2\n",
        "a"
      ],
      "execution_count": null,
      "outputs": [
        {
          "output_type": "execute_result",
          "data": {
            "text/plain": [
              "8.5"
            ]
          },
          "metadata": {},
          "execution_count": 3
        }
      ]
    },
    {
      "cell_type": "code",
      "metadata": {
        "colab": {
          "base_uri": "https://localhost:8080/"
        },
        "id": "G7BSlALEN_IH",
        "outputId": "44ed4fa6-65b3-4eb9-d6ce-d42ae768436f"
      },
      "source": [
        "b = 17 // 2\n",
        "b"
      ],
      "execution_count": null,
      "outputs": [
        {
          "output_type": "execute_result",
          "data": {
            "text/plain": [
              "8"
            ]
          },
          "metadata": {},
          "execution_count": 1
        }
      ]
    },
    {
      "cell_type": "code",
      "metadata": {
        "colab": {
          "base_uri": "https://localhost:8080/"
        },
        "id": "vBQxlT8sOJSm",
        "outputId": "5f74f3c7-13b4-4483-e485-ea98542a122e"
      },
      "source": [
        "c = 17 % 2\n",
        "c"
      ],
      "execution_count": null,
      "outputs": [
        {
          "output_type": "execute_result",
          "data": {
            "text/plain": [
              "1"
            ]
          },
          "metadata": {},
          "execution_count": 2
        }
      ]
    },
    {
      "cell_type": "markdown",
      "metadata": {
        "id": "JI-ia7jJN072"
      },
      "source": [
        "**LOGICAL OPERATORS**"
      ]
    },
    {
      "cell_type": "markdown",
      "metadata": {
        "id": "hdqcm7tiUYnN"
      },
      "source": [
        "# **NUMERICS DATA TYPE**\n",
        "\n",
        "2021 10 11\n",
        "\n",
        "Clarence M. Del Prado / 4100E241"
      ]
    },
    {
      "cell_type": "markdown",
      "metadata": {
        "id": "JcylrE4NVKZz"
      },
      "source": [
        "**ARITHMETIC OPERATORS**"
      ]
    },
    {
      "cell_type": "code",
      "metadata": {
        "id": "hX2350TPNx7o",
        "colab": {
          "base_uri": "https://localhost:8080/"
        },
        "outputId": "999ce296-e187-4d0e-989e-c73e42e07c30"
      },
      "source": [
        "a = 17 / 2\n",
        "a"
      ],
      "execution_count": 4,
      "outputs": [
        {
          "output_type": "execute_result",
          "data": {
            "text/plain": [
              "8.5"
            ]
          },
          "metadata": {},
          "execution_count": 4
        }
      ]
    },
    {
      "cell_type": "code",
      "metadata": {
        "colab": {
          "base_uri": "https://localhost:8080/"
        },
        "id": "J3Pslr2fVVlg",
        "outputId": "8de365d5-d28f-43e5-bf3b-06ad0a0de463"
      },
      "source": [
        "b = 17 // 2\n",
        "b"
      ],
      "execution_count": 5,
      "outputs": [
        {
          "output_type": "execute_result",
          "data": {
            "text/plain": [
              "8"
            ]
          },
          "metadata": {},
          "execution_count": 5
        }
      ]
    },
    {
      "cell_type": "code",
      "metadata": {
        "colab": {
          "base_uri": "https://localhost:8080/"
        },
        "id": "1hCRnGyvVUmb",
        "outputId": "fa73b4af-b5de-439e-8ae1-697c3bfeded9"
      },
      "source": [
        "c = 17 % 2\n",
        "c"
      ],
      "execution_count": 6,
      "outputs": [
        {
          "output_type": "execute_result",
          "data": {
            "text/plain": [
              "1"
            ]
          },
          "metadata": {},
          "execution_count": 6
        }
      ]
    },
    {
      "cell_type": "markdown",
      "metadata": {
        "id": "WQubQw09VhWj"
      },
      "source": [
        "**LOGICAL OPERATORS**"
      ]
    },
    {
      "cell_type": "code",
      "metadata": {
        "colab": {
          "base_uri": "https://localhost:8080/"
        },
        "id": "OvcO_bYPVlVD",
        "outputId": "65b1fa64-87dc-4978-bb59-27848a492dad"
      },
      "source": [
        "x = 9\n",
        "print(x > 7 and x > 8)"
      ],
      "execution_count": 7,
      "outputs": [
        {
          "output_type": "stream",
          "name": "stdout",
          "text": [
            "True\n"
          ]
        }
      ]
    },
    {
      "cell_type": "code",
      "metadata": {
        "colab": {
          "base_uri": "https://localhost:8080/"
        },
        "id": "JbujzsfNWFji",
        "outputId": "3f72ed00-3000-4d76-91fd-c2303a06af4b"
      },
      "source": [
        "x = 9\n",
        "print(x > 8 and x < 7)"
      ],
      "execution_count": 9,
      "outputs": [
        {
          "output_type": "stream",
          "name": "stdout",
          "text": [
            "False\n"
          ]
        }
      ]
    },
    {
      "cell_type": "code",
      "metadata": {
        "colab": {
          "base_uri": "https://localhost:8080/"
        },
        "id": "3oacPBB6WR2a",
        "outputId": "3cd22ac8-7fe8-40e3-8124-6bed54c2a41c"
      },
      "source": [
        "x = 9\n",
        "print(x > 7 or x > 8)"
      ],
      "execution_count": 10,
      "outputs": [
        {
          "output_type": "stream",
          "name": "stdout",
          "text": [
            "True\n"
          ]
        }
      ]
    },
    {
      "cell_type": "markdown",
      "metadata": {
        "id": "fGLQFtKXWeTc"
      },
      "source": [
        "**BUILT-IN FUNCTIONS**"
      ]
    },
    {
      "cell_type": "code",
      "metadata": {
        "colab": {
          "base_uri": "https://localhost:8080/",
          "height": 35
        },
        "id": "Y-deYme9Ws97",
        "outputId": "e8318fba-e350-4994-c051-5d73d0705f58"
      },
      "source": [
        "oct(10)"
      ],
      "execution_count": 11,
      "outputs": [
        {
          "output_type": "execute_result",
          "data": {
            "application/vnd.google.colaboratory.intrinsic+json": {
              "type": "string"
            },
            "text/plain": [
              "'0o12'"
            ]
          },
          "metadata": {},
          "execution_count": 11
        }
      ]
    },
    {
      "cell_type": "code",
      "metadata": {
        "colab": {
          "base_uri": "https://localhost:8080/",
          "height": 35
        },
        "id": "KyDyg_kQW0Zz",
        "outputId": "e0b01c5c-db5c-41d7-9ae3-f58ac040b0a3"
      },
      "source": [
        "hex(34)"
      ],
      "execution_count": 12,
      "outputs": [
        {
          "output_type": "execute_result",
          "data": {
            "application/vnd.google.colaboratory.intrinsic+json": {
              "type": "string"
            },
            "text/plain": [
              "'0x22'"
            ]
          },
          "metadata": {},
          "execution_count": 12
        }
      ]
    },
    {
      "cell_type": "markdown",
      "metadata": {
        "id": "XuRgW98wW4gC"
      },
      "source": [
        "**STRING DATA TYPE**"
      ]
    },
    {
      "cell_type": "code",
      "metadata": {
        "colab": {
          "base_uri": "https://localhost:8080/",
          "height": 35
        },
        "id": "Slxrym6BW_Ab",
        "outputId": "01f78342-6bbb-4e80-aac8-88d58459b1b7"
      },
      "source": [
        "str3 = \"I'm like a statue\"\n",
        "str3"
      ],
      "execution_count": 13,
      "outputs": [
        {
          "output_type": "execute_result",
          "data": {
            "application/vnd.google.colaboratory.intrinsic+json": {
              "type": "string"
            },
            "text/plain": [
              "\"I'm like a statue\""
            ]
          },
          "metadata": {},
          "execution_count": 13
        }
      ]
    },
    {
      "cell_type": "code",
      "metadata": {
        "colab": {
          "base_uri": "https://localhost:8080/"
        },
        "id": "zYk6KvQpXZ55",
        "outputId": "df8a59ba-fd8c-416d-d961-931e204195b6"
      },
      "source": [
        "var1 = \"Stuck staring right at you\"\n",
        "\n",
        "print(\"var1[3]: \", var1[3])"
      ],
      "execution_count": 14,
      "outputs": [
        {
          "output_type": "stream",
          "name": "stdout",
          "text": [
            "var1[3]:  c\n"
          ]
        }
      ]
    },
    {
      "cell_type": "code",
      "metadata": {
        "colab": {
          "base_uri": "https://localhost:8080/"
        },
        "id": "rR57bNhcYI1y",
        "outputId": "69401f9c-4633-4a06-d212-de9a5f04e4dc"
      },
      "source": [
        "b = \"Got me frozen in my tracks\"\n",
        "print(b[:26])"
      ],
      "execution_count": 17,
      "outputs": [
        {
          "output_type": "stream",
          "name": "stdout",
          "text": [
            "Got me frozen in my tracks\n"
          ]
        }
      ]
    },
    {
      "cell_type": "code",
      "metadata": {
        "colab": {
          "base_uri": "https://localhost:8080/"
        },
        "id": "dB9N0ktAYvQy",
        "outputId": "312e096e-a9e6-45c5-def6-75033e5fd903"
      },
      "source": [
        "txt = \"so amazed how you take me back\"\n",
        "\n",
        "x = txt.capitalize()\n",
        "\n",
        "print (x)"
      ],
      "execution_count": 18,
      "outputs": [
        {
          "output_type": "stream",
          "name": "stdout",
          "text": [
            "So amazed how you take me back\n"
          ]
        }
      ]
    },
    {
      "cell_type": "code",
      "metadata": {
        "colab": {
          "base_uri": "https://localhost:8080/"
        },
        "id": "BTByOroxZciZ",
        "outputId": "797ffcf6-652c-496d-a873-4afbbcb0da5f"
      },
      "source": [
        "myMumu = (\"Each and everytime\", \"our love collapsed\")\n",
        "\n",
        "x = \"#\".join(myMumu)\n",
        "\n",
        "print(x)"
      ],
      "execution_count": 21,
      "outputs": [
        {
          "output_type": "stream",
          "name": "stdout",
          "text": [
            "Each and everytime#our love collapsed\n"
          ]
        }
      ]
    },
    {
      "cell_type": "code",
      "metadata": {
        "colab": {
          "base_uri": "https://localhost:8080/"
        },
        "id": "O6QpyYeOaXeS",
        "outputId": "abf35a6a-ee41-4c07-f890-1fcfabfb097d"
      },
      "source": [
        "txt = \"Basketball\"\n",
        "\n",
        "x = txt.ljust(8)\n",
        "\n",
        "print(x, \"is the sport I love.\")"
      ],
      "execution_count": 22,
      "outputs": [
        {
          "output_type": "stream",
          "name": "stdout",
          "text": [
            "Basketball is the sport I love.\n"
          ]
        }
      ]
    },
    {
      "cell_type": "code",
      "metadata": {
        "colab": {
          "base_uri": "https://localhost:8080/"
        },
        "id": "aSCQhu38bBI5",
        "outputId": "8394b573-4787-4ce6-c66d-ce9c8409c07d"
      },
      "source": [
        "txt = \"Basketball\"\n",
        "\n",
        "x = txt.lstrip()\n",
        "\n",
        "print(\"of all sports\", x,\" is probably my favorite\") "
      ],
      "execution_count": 26,
      "outputs": [
        {
          "output_type": "stream",
          "name": "stdout",
          "text": [
            "of all sports Basketball  is probably my favorite\n"
          ]
        }
      ]
    },
    {
      "cell_type": "markdown",
      "metadata": {
        "id": "-7VcmlT3cAeI"
      },
      "source": [
        "**LIST DATA TYPE**"
      ]
    },
    {
      "cell_type": "code",
      "metadata": {
        "colab": {
          "base_uri": "https://localhost:8080/"
        },
        "id": "62VmcybAcCvI",
        "outputId": "ded37618-52a2-4288-a5c4-22e5d4f9d147"
      },
      "source": [
        "list1 = [10, 20, 30, 40, 50]\n",
        "list1[:3]"
      ],
      "execution_count": 27,
      "outputs": [
        {
          "output_type": "execute_result",
          "data": {
            "text/plain": [
              "[10, 20, 30]"
            ]
          },
          "metadata": {},
          "execution_count": 27
        }
      ]
    },
    {
      "cell_type": "code",
      "metadata": {
        "colab": {
          "base_uri": "https://localhost:8080/"
        },
        "id": "G0E9pVh3cYZA",
        "outputId": "7563a797-b932-48d8-e780-50bc72710b23"
      },
      "source": [
        "list1 = [10, 50, 20, 30, 40]\n",
        "max(list1)"
      ],
      "execution_count": 28,
      "outputs": [
        {
          "output_type": "execute_result",
          "data": {
            "text/plain": [
              "50"
            ]
          },
          "metadata": {},
          "execution_count": 28
        }
      ]
    },
    {
      "cell_type": "markdown",
      "metadata": {
        "id": "nPSBMX1EcpgH"
      },
      "source": [
        "**DICT DATA**"
      ]
    },
    {
      "cell_type": "code",
      "metadata": {
        "colab": {
          "base_uri": "https://localhost:8080/"
        },
        "id": "yQoQHQZ9cr6X",
        "outputId": "a67d7274-f68b-4e33-b5d4-ca2cfe2f7e27"
      },
      "source": [
        "dict = {'Name': 'Jellybean', 'Age': 19, 'Class': 'First'}\n",
        "print (\"dict['Name']: \", dict['Name'])"
      ],
      "execution_count": 29,
      "outputs": [
        {
          "output_type": "stream",
          "name": "stdout",
          "text": [
            "dict['Name']:  Jellybean\n"
          ]
        }
      ]
    },
    {
      "cell_type": "code",
      "metadata": {
        "colab": {
          "base_uri": "https://localhost:8080/"
        },
        "id": "Jm3gvorjeXaO",
        "outputId": "f3b5083f-fce2-43b8-e0a7-0968758b0e7b"
      },
      "source": [
        "print (\"dict ['Class]': \", dict ['Class'])"
      ],
      "execution_count": 30,
      "outputs": [
        {
          "output_type": "stream",
          "name": "stdout",
          "text": [
            "dict ['Class]':  First\n"
          ]
        }
      ]
    }
  ]
}