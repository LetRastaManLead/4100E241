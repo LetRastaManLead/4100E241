{
  "nbformat": 4,
  "nbformat_minor": 0,
  "metadata": {
    "colab": {
      "name": "Copy of Welcome To Colaboratory",
      "provenance": [],
      "collapsed_sections": [],
      "toc_visible": true,
      "include_colab_link": true
    },
    "kernelspec": {
      "display_name": "Python 3",
      "name": "python3"
    }
  },
  "cells": [
    {
      "cell_type": "markdown",
      "metadata": {
        "id": "view-in-github",
        "colab_type": "text"
      },
      "source": [
        "<a href=\"https://colab.research.google.com/github/LetRastaManLead/4100E241/blob/main/Copy_of_Welcome_To_Colaboratory.ipynb\" target=\"_parent\"><img src=\"https://colab.research.google.com/assets/colab-badge.svg\" alt=\"Open In Colab\"/></a>"
      ]
    },
    {
      "cell_type": "markdown",
      "metadata": {
        "id": "yuPfS5NRv4QT"
      },
      "source": [
        "Clarence Del Prado\n",
        "4100E241"
      ]
    },
    {
      "cell_type": "code",
      "metadata": {
        "colab": {
          "base_uri": "https://localhost:8080/"
        },
        "id": "ly_TRZSDv_hb",
        "outputId": "50eeb132-16fe-428d-8050-cf5c451bdcd6"
      },
      "source": [
        "def sum(i1, i2, i3):\n",
        "    result = 0\n",
        "    for i in range(i1, i2, i3):\n",
        "        result += i\n",
        "    return result\n",
        "\n",
        "def main():\n",
        "    print(\"Sum from 15 to 24\", sum(15, 25, 5))\n",
        "    print(\"Sum from 30 to 69\", sum(30, 70, 4))\n",
        "    print(\"sum from 10 to 59\", sum(10, 60, 3))\n",
        "\n",
        "main() # Call the main function               "
      ],
      "execution_count": 2,
      "outputs": [
        {
          "output_type": "stream",
          "name": "stdout",
          "text": [
            "Sum from 15 to 24 35\n",
            "Sum from 30 to 69 480\n",
            "sum from 10 to 59 578\n"
          ]
        }
      ]
    },
    {
      "cell_type": "code",
      "metadata": {
        "colab": {
          "base_uri": "https://localhost:8080/"
        },
        "id": "4pYy54E6y4om",
        "outputId": "3b092c8a-d873-40b9-d3b9-85d675c4051f"
      },
      "source": [
        "15+20"
      ],
      "execution_count": 3,
      "outputs": [
        {
          "output_type": "execute_result",
          "data": {
            "text/plain": [
              "35"
            ]
          },
          "metadata": {},
          "execution_count": 3
        }
      ]
    },
    {
      "cell_type": "code",
      "metadata": {
        "colab": {
          "base_uri": "https://localhost:8080/"
        },
        "id": "iCOoo3SE1T3O",
        "outputId": "116dbde8-3be7-46e9-e9d8-2bd3c5c839ce"
      },
      "source": [
        "30+34+38+42+46+50+54+58+62+66"
      ],
      "execution_count": 4,
      "outputs": [
        {
          "output_type": "execute_result",
          "data": {
            "text/plain": [
              "480"
            ]
          },
          "metadata": {},
          "execution_count": 4
        }
      ]
    },
    {
      "cell_type": "code",
      "metadata": {
        "colab": {
          "base_uri": "https://localhost:8080/"
        },
        "id": "71fO_vA81i2u",
        "outputId": "f903ec79-f68e-4be1-f4a1-ffd763ba889d"
      },
      "source": [
        "10+13+16+19+22+25+28+31+34+37+40+43+46+49+52+55+58"
      ],
      "execution_count": 5,
      "outputs": [
        {
          "output_type": "execute_result",
          "data": {
            "text/plain": [
              "578"
            ]
          },
          "metadata": {},
          "execution_count": 5
        }
      ]
    },
    {
      "cell_type": "code",
      "metadata": {
        "colab": {
          "base_uri": "https://localhost:8080/"
        },
        "id": "AyWgtvqg2K5-",
        "outputId": "60abccbf-a498-4646-f779-882a2e7caa5e"
      },
      "source": [
        "def swap(k,b):\n",
        "  k,b = b,k\n",
        "  return (k,b)\n",
        "\n",
        "if __name__ == '__main__':\n",
        "    k = 67\n",
        "    b = 76\n",
        "    print('k = %d,b = %d' % (k,b))\n",
        "    k,b = swap (k, b)\n",
        "    print('k = %d,b = %d' % (k,b))"
      ],
      "execution_count": 15,
      "outputs": [
        {
          "output_type": "stream",
          "name": "stdout",
          "text": [
            "k = 67,b = 76\n",
            "k = 76,b = 67\n"
          ]
        }
      ]
    },
    {
      "cell_type": "code",
      "metadata": {
        "colab": {
          "base_uri": "https://localhost:8080/"
        },
        "id": "Jjamauq16eLp",
        "outputId": "7caa2ca7-176b-4868-9a81-a7f461b1da87"
      },
      "source": [
        "def sort(numberx, numbery, numberz):\n",
        "    if numberx < numbery < numberz:\n",
        "        return numberx, numbery, numberz\n",
        "    else:\n",
        "        return numberz, numbery, numberx\n",
        "\n",
        "numx, numy, numz = sort(2, 9, 29)\n",
        "\n",
        "print(\"num1 is\", numx)\n",
        "print(\"num2 is\", numy)\n",
        "print(\"num3 is\", numz)             "
      ],
      "execution_count": 32,
      "outputs": [
        {
          "output_type": "stream",
          "name": "stdout",
          "text": [
            "num1 is 2\n",
            "num2 is 9\n",
            "num3 is 29\n"
          ]
        }
      ]
    },
    {
      "cell_type": "code",
      "metadata": {
        "colab": {
          "base_uri": "https://localhost:8080/"
        },
        "id": "sAPERWMBBFX6",
        "outputId": "58f201fb-fa14-4b59-ebbc-dfb6106f4d5c"
      },
      "source": [
        "def sort(number1, number2, number3):\n",
        "    if (number1 < number2) and (number1 < number3):\n",
        "      if number2 < number3:\n",
        "        return number1, number2,number3\n",
        "      else:\n",
        "        return number1, number3,number2\n",
        "    if (number2 < number1) and (number2 < number3):\n",
        "      if number1 < number3:\n",
        "        return number2, number1,number3\n",
        "      else:\n",
        "        return number2, number3,number1\n",
        "    if (number3 < number1) and (number3 < number2):\n",
        "      if number1 < number2:\n",
        "        return number3, number1, number2\n",
        "      else:\n",
        "        return number3, number2, number1\n",
        "\n",
        "num1, num2, num3 = sort(23,24,33)\n",
        "\n",
        "print(\"num1 is\", num3)\n",
        "print(\"num2 is\", num2)\n",
        "print(\"num3 is\", num1)"
      ],
      "execution_count": 33,
      "outputs": [
        {
          "output_type": "stream",
          "name": "stdout",
          "text": [
            "num1 is 33\n",
            "num2 is 24\n",
            "num3 is 23\n"
          ]
        }
      ]
    },
    {
      "cell_type": "code",
      "metadata": {
        "id": "3LNmfcTOF2dF"
      },
      "source": [
        "def printArea(width = 23, height = 45):\n",
        "    area = width * height\n",
        "    print(\"width:\", width, \"\\theight:\", height, \"\\tarea:\", area)"
      ],
      "execution_count": 36,
      "outputs": []
    },
    {
      "cell_type": "code",
      "metadata": {
        "colab": {
          "base_uri": "https://localhost:8080/"
        },
        "id": "FnKG7-j-G9Qc",
        "outputId": "971062a9-dbcf-4f2e-e560-891bf29058ee"
      },
      "source": [
        "23*45"
      ],
      "execution_count": 37,
      "outputs": [
        {
          "output_type": "execute_result",
          "data": {
            "text/plain": [
              "1035"
            ]
          },
          "metadata": {},
          "execution_count": 37
        }
      ]
    },
    {
      "cell_type": "markdown",
      "metadata": {
        "id": "tkcQ_1aBHijt"
      },
      "source": [
        "**use default arguments**"
      ]
    },
    {
      "cell_type": "code",
      "metadata": {
        "colab": {
          "base_uri": "https://localhost:8080/"
        },
        "id": "VL7JeoVVHYM8",
        "outputId": "3bfb240f-a5d6-43a8-f449-ed587992588d"
      },
      "source": [
        "printArea()"
      ],
      "execution_count": 38,
      "outputs": [
        {
          "output_type": "stream",
          "name": "stdout",
          "text": [
            "width: 23 \theight: 45 \tarea: 1035\n"
          ]
        }
      ]
    },
    {
      "cell_type": "markdown",
      "metadata": {
        "id": "8e_B1moXIMXs"
      },
      "source": [
        "**use keyboard arguments**"
      ]
    },
    {
      "cell_type": "code",
      "metadata": {
        "colab": {
          "base_uri": "https://localhost:8080/"
        },
        "id": "_8z78ctVIA59",
        "outputId": "b8ae03e3-e3ad-471d-f75c-1123382a4772"
      },
      "source": [
        "printArea(width = 23, height = 45)"
      ],
      "execution_count": 39,
      "outputs": [
        {
          "output_type": "stream",
          "name": "stdout",
          "text": [
            "width: 23 \theight: 45 \tarea: 1035\n"
          ]
        }
      ]
    },
    {
      "cell_type": "code",
      "metadata": {
        "colab": {
          "base_uri": "https://localhost:8080/"
        },
        "id": "Iv2732dqIiN0",
        "outputId": "25487826-5ae3-4fed-fdb3-d9c6d6f1c639"
      },
      "source": [
        "printArea(height = 45, width = 23)"
      ],
      "execution_count": 40,
      "outputs": [
        {
          "output_type": "stream",
          "name": "stdout",
          "text": [
            "width: 23 \theight: 45 \tarea: 1035\n"
          ]
        }
      ]
    },
    {
      "cell_type": "markdown",
      "metadata": {
        "id": "QsPbyiVCI0Hd"
      },
      "source": [
        "**use positional argument**"
      ]
    },
    {
      "cell_type": "code",
      "metadata": {
        "colab": {
          "base_uri": "https://localhost:8080/"
        },
        "id": "3_9TWtYXI4AF",
        "outputId": "4fc8a50a-a4e3-4939-9c55-312f31cd6d7e"
      },
      "source": [
        "printArea(23,45)"
      ],
      "execution_count": 41,
      "outputs": [
        {
          "output_type": "stream",
          "name": "stdout",
          "text": [
            "width: 23 \theight: 45 \tarea: 1035\n"
          ]
        }
      ]
    },
    {
      "cell_type": "code",
      "metadata": {
        "colab": {
          "base_uri": "https://localhost:8080/"
        },
        "id": "KJHNE1V6I9F0",
        "outputId": "553c4616-0b18-4172-faa2-95c82cf454c8"
      },
      "source": [
        "printArea(45,23)"
      ],
      "execution_count": 42,
      "outputs": [
        {
          "output_type": "stream",
          "name": "stdout",
          "text": [
            "width: 45 \theight: 23 \tarea: 1035\n"
          ]
        }
      ]
    },
    {
      "cell_type": "markdown",
      "metadata": {
        "id": "mBnQwQ9XJj6G"
      },
      "source": [
        "**Lambda**"
      ]
    },
    {
      "cell_type": "code",
      "metadata": {
        "colab": {
          "base_uri": "https://localhost:8080/"
        },
        "id": "Be_InpkGJnNM",
        "outputId": "15585e9a-8445-4ce0-e673-0fb56e7b99c7"
      },
      "source": [
        "f1 = lambda l, b, j: l+6*b+23*j\n",
        "print(f1(6,23,24))"
      ],
      "execution_count": 43,
      "outputs": [
        {
          "output_type": "stream",
          "name": "stdout",
          "text": [
            "696\n"
          ]
        }
      ]
    },
    {
      "cell_type": "code",
      "metadata": {
        "colab": {
          "base_uri": "https://localhost:8080/"
        },
        "id": "Pr6gmJ0ULsz3",
        "outputId": "dd34b3a1-85cc-4375-d3ad-60d5880e367b"
      },
      "source": [
        "def myfunc(n):\n",
        "  return n*n\n",
        "\n",
        "my_list = [23, 24, 30, 32, 34]\n",
        "\n",
        "print(list(map(lambda x:myfunc(x), my_list)))"
      ],
      "execution_count": 45,
      "outputs": [
        {
          "output_type": "stream",
          "name": "stdout",
          "text": [
            "[529, 576, 900, 1024, 1156]\n"
          ]
        }
      ]
    }
  ]
}